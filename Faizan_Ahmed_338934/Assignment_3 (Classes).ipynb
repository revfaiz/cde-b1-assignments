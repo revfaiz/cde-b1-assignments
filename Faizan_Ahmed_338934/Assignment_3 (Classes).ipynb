{
 "cells": [
  {
   "cell_type": "markdown",
   "metadata": {
    "id": "IoXdHQh3GwIL"
   },
   "source": [
    "# **Question No 01**\n",
    "\n",
    "Create a base class Transport with a method travel() that prints a generic travel message.\n",
    "\n",
    "Create three subclasses:\n",
    "Bus – Represents intercity travel (e.g., Daewoo Express)\n",
    "Train – Represents railway travel (e.g., Pakistan Railways)\n",
    "Airplane – Represents air travel (e.g., PIA – Pakistan International Airlines)\n",
    "\n",
    "Each subclass should override the travel() method to display unique travel details like the mode of transport, speed, and common use cases.\n",
    "\n",
    "\n",
    "*   Create a function plan_trip(transport) that accepts an object of type Transport and calls its travel() method.\n",
    "\n",
    "*   Create objects of all three subclasses and pass them to the plan_trip() function to demonstrate Polymorphism.\n",
    "\n",
    "\n",
    "# **Explanation:**\n",
    "Polymorphism allows objects of different subclasses (Bus, Train, Airplane) to be treated as objects of a common superclass (Transport).\n",
    "Each subclass provides a specific implementation of the travel() method.\n",
    "The function plan_trip() ensures that the correct version of the method is executed, even though it does not know the exact subclass beforehand.\n",
    "\n",
    "\n",
    "# **Example Scenario:**\n",
    "Qasim plans a trip from Lahore to Karachi.\n",
    "\n",
    "\n",
    "*   If he travels by Daewoo Bus, the travel() method displays details about bus travel, like travel time and cost.\n",
    "\n",
    "\n",
    "*   If he chooses Pakistan Railways Train, the method provides information about train schedules and cabins.\n",
    "\n",
    "*   If he selects PIA Airplane, the method highlights flight duration, security checks, and ticket prices.\n",
    "\n",
    "The plan_trip() function ensures that Ali gets the correct travel details, regardless of whether he chooses a bus, train, or airplane.\n",
    "\n",
    "\n"
   ]
  },
  {
   "cell_type": "code",
   "execution_count": 3,
   "metadata": {
    "id": "YXTSdP5HGx85"
   },
   "outputs": [],
   "source": [
    "# Base class\n",
    "class Transport:\n",
    "    def travel(self):\n",
    "        print(\"Traveling using a generic transport\")\n",
    "\n",
    "# Subclass Bus\n",
    "class Bus(Transport):\n",
    "    def travel(self):\n",
    "        print(\"Traveling by Bus: Daewoo Express - Intercity travel, comfortable seating, and affordable fares.\")\n",
    "\n",
    "# Subclass Train\n",
    "class Train(Transport):\n",
    "    def travel(self):\n",
    "        print(\"Traveling by Train: Pakistan Railways - Railway travel, scenic routes, and various cabin classes.\")\n",
    "\n",
    "# Subclass Airplane\n",
    "class Airplane(Transport):\n",
    "    def travel(self):\n",
    "        print(\"Traveling by Airplane: PIA - Pakistan International Airlines - Fast travel, security checks, and in-flight services.\")\n",
    "\n",
    "# Function to plan a trip\n",
    "def plan_trip(transport: Transport):\n",
    "    transport.travel()\n",
    "\n",
    "\n",
    "\n"
   ]
  },
  {
   "cell_type": "code",
   "execution_count": 5,
   "metadata": {
    "id": "FE6wGN7ROdm2"
   },
   "outputs": [
    {
     "name": "stdout",
     "output_type": "stream",
     "text": [
      "Traveling by Bus: Daewoo Express - Intercity travel, comfortable seating, and affordable fares.\n",
      "Traveling by Train: Pakistan Railways - Railway travel, scenic routes, and various cabin classes.\n",
      "Traveling by Airplane: PIA - Pakistan International Airlines - Fast travel, security checks, and in-flight services.\n"
     ]
    }
   ],
   "source": [
    "# Creating objects of the subclasses\n",
    "bus = Bus()\n",
    "train = Train()\n",
    "airplane = Airplane()\n",
    "\n",
    "# Demonstrating Polymorphism\n",
    "plan_trip(bus)\n",
    "plan_trip(train)\n",
    "plan_trip(airplane)"
   ]
  },
  {
   "cell_type": "markdown",
   "metadata": {
    "id": "o4iLb65wGygm"
   },
   "source": [
    "# **Question No 02**\n",
    "\n",
    "Design a system for an Online Education Platform using Python classes that demonstrates the concepts of single-level inheritance, multi-level inheritance, and method overriding.\n",
    "\n",
    "\n",
    "*   Create a base class Person with attributes like name and age, and a method display_info() to show personal details.\n",
    "\n",
    "*   Create a derived class Instructor inheriting from Person, adding attributes like subject and salary, and overriding the display_info() method to include instructor-specific details.\n",
    "\n",
    "*   Create another derived class Student inheriting from Person, with attributes like grade and enrollment_number, and override display_info() to include student-specific details.\n",
    "\n",
    "*   Further, create a subclass TeachingAssistant inheriting from Instructor and Student (demonstrating multi-level inheritance). Add an attribute hours_per_week. Override the display_info() method to combine attributes from both parent classes.\n",
    "\n",
    "*   Create objects of Person, Instructor, Student, and TeachingAssistant and demonstrate the use of their respective display_info() methods.\n",
    "\n",
    "**This question showcases multiple inheritance types:**\n",
    "\n",
    "**Single Inheritance:** Instructor and Student inherit from Person.\n",
    "\n",
    "**Multi-Level Inheritance:** TeachingAssistant inherits from both Instructor and Student.\n",
    "\n",
    "**Method Overriding:** Each subclass redefines the display_info() method for their specific requirements.\n",
    "\n",
    "# **Example Scenario:**\n",
    "In an online education platform:\n",
    "\n",
    "*   Zeeshan is a Person who is just a visitor.\n",
    "\n",
    "*   Sir Qasim is an Instructor, teaching Computer Science with a salary of $5000/month.\n",
    "\n",
    "*   Ayan Hussain is a Student, enrolled in Grade 10 with an enrollment number SIMIT12345.\n",
    "\n",
    "*   Uzair is a Teaching Assistant, assisting Sir Qasim for 10 hours per week while also being a student in the same course.\n",
    "\n"
   ]
  },
  {
   "cell_type": "code",
   "execution_count": 14,
   "metadata": {
    "id": "JqH5LMduGytR"
   },
   "outputs": [
    {
     "name": "stdout",
     "output_type": "stream",
     "text": [
      "Name: Zeeshan, Age: 45\n",
      "Name: Sir Qasim, Age: 50, Subject: Computer Science, Salary: $5000\n",
      "Name: Ayan Hussain, Age: 16, Grade: Grade 10, Enrollment Number: SIMIT12345\n",
      "Name: Uzair, Age: 22, Subject: Computer Science, Salary: $2000, Grade: Grade 10, Enrollment Number: SIMIT54321, Hours per Week: 10\n"
     ]
    }
   ],
   "source": [
    "# Base class\n",
    "class Person:\n",
    "    def __init__(self, name, age):\n",
    "        self.name = name\n",
    "        self.age = age\n",
    "    \n",
    "    def display_info(self):\n",
    "        print(f\"Name: {self.name}, Age: {self.age}\")\n",
    "\n",
    "# Derived class Instructor inheriting from Person (Single-level inheritance)\n",
    "class Instructor(Person):\n",
    "    def __init__(self, name, age, subject, salary):\n",
    "        Person.__init__(self, name, age)\n",
    "        self.subject = subject\n",
    "        self.salary = salary\n",
    "    \n",
    "    def display_info(self):\n",
    "        print(f\"Name: {self.name}, Age: {self.age}, Subject: {self.subject}, Salary: ${self.salary}\")\n",
    "\n",
    "# Derived class Student inheriting from Person (Single-level inheritance)\n",
    "class Student(Person):\n",
    "    def __init__(self, name, age, grade, enrollment_number):\n",
    "        Person.__init__(self, name, age)\n",
    "        self.grade = grade\n",
    "        self.enrollment_number = enrollment_number\n",
    "    \n",
    "    def display_info(self):\n",
    "        print(f\"Name: {self.name}, Age: {self.age}, Grade: {self.grade}, Enrollment Number: {self.enrollment_number}\")\n",
    "\n",
    "# Multi-level inheritance: TeachingAssistant inheriting from both Instructor and Student\n",
    "class TeachingAssistant(Instructor, Student):\n",
    "    def __init__(self, name, age, subject, salary, grade, enrollment_number, hours_per_week):\n",
    "        Instructor.__init__(self, name, age, subject, salary)\n",
    "        Student.__init__(self, name, age, grade, enrollment_number)\n",
    "        self.hours_per_week = hours_per_week\n",
    "    \n",
    "    def display_info(self):\n",
    "        print(f\"Name: {self.name}, Age: {self.age}, Subject: {self.subject}, Salary: ${self.salary}, Grade: {self.grade}, Enrollment Number: {self.enrollment_number}, Hours per Week: {self.hours_per_week}\")\n",
    "\n",
    "# Creating objects and demonstrating the use of display_info() method\n",
    "\n"
   ]
  },
  {
   "cell_type": "code",
   "execution_count": 17,
   "metadata": {
    "id": "llqR8xN2OgWv"
   },
   "outputs": [
    {
     "name": "stdout",
     "output_type": "stream",
     "text": [
      "Name: Faizan Ahmed, Age: 45\n",
      "Name: Shoaib Mughal, Age: 50, Subject: Computer Engineer, Salary: $5000\n",
      "Name: Usama AKram, Age: 16, Grade: Grade 10, Enrollment Number: SIMIT12345\n",
      "Name: Uzair, Age: 22, Subject: Computer Science, Salary: $2000, Grade: Grade 10, Enrollment Number: SIMIT54321, Hours per Week: 10\n"
     ]
    }
   ],
   "source": [
    "# Creating objects and demonstrating the use of display_info() method\n",
    "Faizan = Person(\"Faizan Ahmed\", 45)\n",
    "Shoaib_mughal = Instructor(\"Shoaib Mughal\", 50, \"Computer Engineer\", 5000)\n",
    "Usama = Student(\"Usama AKram\", 16, \"Grade 10\", \"SIMIT12345\")\n",
    "uzair = TeachingAssistant(\"Uzair\", 22, \"Computer Science\", 2000, \"Grade 10\", \"SIMIT54321\", 10)\n",
    "\n",
    "Faizan.display_info()\n",
    "Shoaib_mughal.display_info()\n",
    "Usama.display_info()\n",
    "uzair.display_info()\n"
   ]
  },
  {
   "cell_type": "markdown",
   "metadata": {
    "id": "oYTGqJatGy6F"
   },
   "source": [
    "# **Question No 03**\n",
    "\n",
    "Design a Banking System using Python classes that demonstrates the principle of Encapsulation.\n",
    "\n",
    "\n",
    "*   Create a class BankAccount with the following private attributes:\n",
    "  __account_number (string)\n",
    "  __account_holder (string)\n",
    "  __balance (float)\n",
    "\n",
    "\n",
    "*   Provide getter and setter methods for __account_holder and __balance.\n",
    "    - The balance setter should validate that the new balance is non-negative.\n",
    "\n",
    "*   Create a method deposit(amount) to add money to the account (amount must be positive).\n",
    "\n",
    "\n",
    "*   Create a method withdraw(amount) to withdraw money from the account (ensure sufficient balance).\n",
    "\n",
    "*   Add a method display_account_details() to display account holder details and balance (but not the account number for security).\n",
    "\n",
    "\n",
    "*   Create a derived class SavingsAccount from BankAccount:\n",
    "    - Add an attribute __interest_rate (private).\n",
    "    - Add a method apply_interest() to calculate and apply interest to the account balance.\n",
    "\n",
    "*   Demonstrate the proper use of **Encapsulation** by ensuring private attributes are not directly accessible outside the class.\n",
    "\n",
    "\n",
    "\n",
    "**Encapsulation ensures that critical data (__account_number, __balance) is protected from unauthorized access.\n",
    "Private attributes are accessed through getter and setter methods, ensuring proper validation.\n",
    "Methods like deposit, withdraw, and apply_interest allow controlled operations on account data.**\n",
    "\n",
    "\n",
    "\n",
    "# **Example Scenario**\n",
    "\n",
    "\n",
    "*   Ayan Hussain opens a SavingsAccount with Meezan Bank with an initial balance of PKR 50,000 and an interest rate of 4% per annum.\n",
    "\n",
    "\n",
    "*   Ayan tries to withdraw PKR 20,000, which succeeds.\n",
    "\n",
    "*   He then tries to withdraw PKR 40,000, but the transaction fails due to insufficient funds.\n",
    "\n",
    "\n",
    "\n",
    "*   Ayan deposits PKR 10,000, and the bank applies the 4% interest on the updated balance.\n",
    "\n",
    "\n",
    "In real-world systems like those of **UBL** or **Allied Bank**, account holders cannot directly access their account balances but must rely on secure operations provided by the banking system.\n",
    "\n",
    "\n"
   ]
  },
  {
   "cell_type": "code",
   "execution_count": 18,
   "metadata": {
    "id": "Ofgg9YLfGzHY"
   },
   "outputs": [],
   "source": [
    "class BankAccount:\n",
    "    def __init__(self, account_number, account_holder, balance):\n",
    "        self.__account_number = account_number\n",
    "        self.__account_holder = account_holder\n",
    "        self.__balance = balance\n",
    "    \n",
    "    # Getter and setter methods for account_holder\n",
    "    def get_account_holder(self):\n",
    "        return self.__account_holder\n",
    "    \n",
    "    def set_account_holder(self, account_holder):\n",
    "        self.__account_holder = account_holder\n",
    "    \n",
    "    # Getter and setter methods for balance with validation\n",
    "    def get_balance(self):\n",
    "        return self.__balance\n",
    "    \n",
    "    def set_balance(self, balance):\n",
    "        if balance >= 0:\n",
    "            self.__balance = balance\n",
    "        else:\n",
    "            print(\"Balance cannot be negative.\")\n",
    "    \n",
    "    # Method to deposit money\n",
    "    def deposit(self, amount):\n",
    "        if amount > 0:\n",
    "            self.__balance += amount\n",
    "        else:\n",
    "            print(\"Deposit amount must be positive.\")\n",
    "    \n",
    "    # Method to withdraw money\n",
    "    def withdraw(self, amount):\n",
    "        if amount > 0 and amount <= self.__balance:\n",
    "            self.__balance -= amount\n",
    "        else:\n",
    "            print(\"Insufficient funds or invalid amount.\")\n",
    "    \n",
    "    # Method to display account details (excluding account number)\n",
    "    def display_account_details(self):\n",
    "        print(f\"Account Holder: {self.__account_holder}\")\n",
    "        print(f\"Balance: {self.__balance}\")\n",
    "        \n",
    "\n",
    "# Derived class SavingsAccount from BankAccount\n",
    "class SavingsAccount(BankAccount):\n",
    "    def __init__(self, account_number, account_holder, balance, interest_rate):\n",
    "        super().__init__(account_number, account_holder, balance)\n",
    "        self.__interest_rate = interest_rate\n",
    "    \n",
    "    # Method to apply interest\n",
    "    def apply_interest(self):\n",
    "        interest = self.get_balance() * self.__interest_rate / 100\n",
    "        self.set_balance(self.get_balance() + interest)\n",
    "    \n",
    "    # Override display_account_details to include interest rate\n",
    "    def display_account_details(self):\n",
    "        super().display_account_details()\n",
    "        print(f\"Interest Rate: {self.__interest_rate}%\")\n",
    "        \n",
    "\n"
   ]
  },
  {
   "cell_type": "code",
   "execution_count": 19,
   "metadata": {
    "id": "F2XxHcKCOnU2"
   },
   "outputs": [
    {
     "name": "stdout",
     "output_type": "stream",
     "text": [
      "Account Holder: Faizan_Ahmed\n",
      "Balance: 50000\n",
      "Interest Rate: 4%\n",
      "Account Holder: Faizan_Ahmed\n",
      "Balance: 30000\n",
      "Interest Rate: 4%\n",
      "Insufficient funds or invalid amount.\n",
      "Account Holder: Faizan_Ahmed\n",
      "Balance: 30000\n",
      "Interest Rate: 4%\n",
      "Account Holder: Faizan_Ahmed\n",
      "Balance: 40000\n",
      "Interest Rate: 4%\n",
      "Account Holder: Faizan_Ahmed\n",
      "Balance: 41600.0\n",
      "Interest Rate: 4%\n"
     ]
    }
   ],
   "source": [
    "# Example scenario\n",
    "Faizan_account = SavingsAccount(\"1234567890\", \"Faizan_Ahmed\", 50000, 4)\n",
    "\n",
    "# Display account details\n",
    "Faizan_account.display_account_details()\n",
    "\n",
    "# Withdraw PKR 20,000 (succeeds)\n",
    "Faizan_account.withdraw(20000)\n",
    "Faizan_account.display_account_details()\n",
    "\n",
    "# Withdraw PKR 40,000 (fails)\n",
    "Faizan_account.withdraw(40000)\n",
    "Faizan_account.display_account_details()\n",
    "\n",
    "# Deposit PKR 10,000\n",
    "Faizan_account.deposit(10000)\n",
    "Faizan_account.display_account_details()\n",
    "\n",
    "# Apply interest\n",
    "Faizan_account.apply_interest()\n",
    "Faizan_account.display_account_details()\n"
   ]
  },
  {
   "cell_type": "markdown",
   "metadata": {
    "id": "LAt51GGsNZqy"
   },
   "source": [
    "# **Question No 04**\n",
    "\n",
    "Design an abstract class ECommercePlatform that represents an online shopping system.\n",
    "\n",
    "\n",
    "*   The abstract class should have the following abstract methods:\n",
    "    - login() – For user authentication.\n",
    "    - add_to_cart() – To add products to the shopping cart.\n",
    "    - make_payment() – To handle payments.\n",
    "\n",
    "*   Create two concrete subclasses:\n",
    "    - Daraz – Represents the popular Pakistani e-commerce platform.\n",
    "    - Foodpanda – Represents the online food delivery platform.\n",
    "\n",
    "*   Each subclass must implement all the abstract methods with platform-specific behavior.\n",
    "\n",
    "Create instances of both subclasses and demonstrate the usage of their methods.\n",
    "\n",
    "# **Explanation:**\n",
    "Abstraction hides the implementation details and provides a blueprint for derived classes through abstract methods.\n",
    "The abstract class ECommercePlatform ensures that every derived platform (Daraz, Foodpanda) implements key functionalities like login, add_to_cart, and make_payment.\n",
    "This design allows flexibility to add more platforms (e.g., AliExpress, Amazon) in the future without changing the core abstract structure.\n",
    "\n",
    "\n",
    "# **Example Scenario**\n",
    "Ayan wants to shop for clothes on Daraz.pk and order dinner through Foodpanda.\n",
    "\n",
    "*   On Daraz, he logs in, adds a shirt to his cart, and makes a payment via JazzCash.\n",
    "\n",
    "*   On Foodpanda, he logs in, adds a Biryani deal to his cart, and pays via EasyPaisa.\n",
    "\n",
    "Each platform has a different process for cart management and payments, but the abstract class ensures they follow a common structure.\n",
    "\n",
    "\n"
   ]
  },
  {
   "cell_type": "code",
   "execution_count": 22,
   "metadata": {
    "id": "dRRSrEsxNfiC"
   },
   "outputs": [],
   "source": [
    "from abc import ABC, abstractmethod\n",
    "\n",
    "# Abstract class ECommercePlatform\n",
    "class ECommercePlatform(ABC):\n",
    "    @abstractmethod\n",
    "    def login(self):\n",
    "        pass\n",
    "    \n",
    "    @abstractmethod\n",
    "    def add_to_cart(self):\n",
    "        pass\n",
    "    \n",
    "    @abstractmethod\n",
    "    def make_payment(self):\n",
    "        pass\n",
    "\n",
    "# Concrete subclass Daraz\n",
    "class Daraz(ECommercePlatform):\n",
    "    def login(self):\n",
    "        print(\"Logging in to Daraz...\")\n",
    "    \n",
    "    def add_to_cart(self):\n",
    "        print(\"Adding items to the Daraz shopping cart...\")\n",
    "    \n",
    "    def make_payment(self):\n",
    "        print(\"Making payment on Daraz via JazzCash...\")\n",
    "\n",
    "# Concrete subclass Foodpanda\n",
    "class Foodpanda(ECommercePlatform):\n",
    "    def login(self):\n",
    "        print(\"Logging in to Foodpanda...\")\n",
    "    \n",
    "    def add_to_cart(self):\n",
    "        print(\"Adding food items to the Foodpanda cart...\")\n",
    "    \n",
    "    def make_payment(self):\n",
    "        print(\"Making payment on Foodpanda via EasyPaisa...\")\n",
    "\n",
    "\n"
   ]
  },
  {
   "cell_type": "code",
   "execution_count": 21,
   "metadata": {
    "id": "2B5S0s5iOo2m"
   },
   "outputs": [
    {
     "name": "stdout",
     "output_type": "stream",
     "text": [
      "Using Daraz platform:\n",
      "Logging in to Daraz...\n",
      "Adding items to the Daraz shopping cart...\n",
      "Making payment on Daraz via JazzCash...\n",
      "\n",
      "Using Foodpanda platform:\n",
      "Logging in to Foodpanda...\n",
      "Adding food items to the Foodpanda cart...\n",
      "Making payment on Foodpanda via EasyPaisa...\n"
     ]
    }
   ],
   "source": [
    "daraz = Daraz()\n",
    "foodpanda = Foodpanda()\n",
    "\n",
    "print(\"Using Daraz platform:\")\n",
    "daraz.login()\n",
    "daraz.add_to_cart()\n",
    "daraz.make_payment()\n",
    "\n",
    "print(\"\\nUsing Foodpanda platform:\")\n",
    "foodpanda.login()\n",
    "foodpanda.add_to_cart()\n",
    "foodpanda.make_payment()"
   ]
  }
 ],
 "metadata": {
  "colab": {
   "provenance": []
  },
  "kernelspec": {
   "display_name": "Python 3 (ipykernel)",
   "language": "python",
   "name": "python3"
  },
  "language_info": {
   "codemirror_mode": {
    "name": "ipython",
    "version": 3
   },
   "file_extension": ".py",
   "mimetype": "text/x-python",
   "name": "python",
   "nbconvert_exporter": "python",
   "pygments_lexer": "ipython3",
   "version": "3.12.4"
  }
 },
 "nbformat": 4,
 "nbformat_minor": 4
}
