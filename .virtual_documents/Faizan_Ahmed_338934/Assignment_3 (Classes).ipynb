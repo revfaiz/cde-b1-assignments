


# Base class
class Transport:
    def travel(self):
        print("Traveling using a generic transport")

# Subclass Bus
class Bus(Transport):
    def travel(self):
        print("Traveling by Bus: Daewoo Express - Intercity travel, comfortable seating, and affordable fares.")

# Subclass Train
class Train(Transport):
    def travel(self):
        print("Traveling by Train: Pakistan Railways - Railway travel, scenic routes, and various cabin classes.")

# Subclass Airplane
class Airplane(Transport):
    def travel(self):
        print("Traveling by Airplane: PIA - Pakistan International Airlines - Fast travel, security checks, and in-flight services.")

# Function to plan a trip
def plan_trip(transport: Transport):
    transport.travel()






# Creating objects of the subclasses
bus = Bus()
train = Train()
airplane = Airplane()

# Demonstrating Polymorphism
plan_trip(bus)
plan_trip(train)
plan_trip(airplane)





# Base class
class Person:
    def __init__(self, name, age):
        self.name = name
        self.age = age
    
    def display_info(self):
        print(f"Name: {self.name}, Age: {self.age}")

# Derived class Instructor inheriting from Person (Single-level inheritance)
class Instructor(Person):
    def __init__(self, name, age, subject, salary):
        Person.__init__(self, name, age)
        self.subject = subject
        self.salary = salary
    
    def display_info(self):
        print(f"Name: {self.name}, Age: {self.age}, Subject: {self.subject}, Salary: ${self.salary}")

# Derived class Student inheriting from Person (Single-level inheritance)
class Student(Person):
    def __init__(self, name, age, grade, enrollment_number):
        Person.__init__(self, name, age)
        self.grade = grade
        self.enrollment_number = enrollment_number
    
    def display_info(self):
        print(f"Name: {self.name}, Age: {self.age}, Grade: {self.grade}, Enrollment Number: {self.enrollment_number}")

# Multi-level inheritance: TeachingAssistant inheriting from both Instructor and Student
class TeachingAssistant(Instructor, Student):
    def __init__(self, name, age, subject, salary, grade, enrollment_number, hours_per_week):
        Instructor.__init__(self, name, age, subject, salary)
        Student.__init__(self, name, age, grade, enrollment_number)
        self.hours_per_week = hours_per_week
    
    def display_info(self):
        print(f"Name: {self.name}, Age: {self.age}, Subject: {self.subject}, Salary: ${self.salary}, Grade: {self.grade}, Enrollment Number: {self.enrollment_number}, Hours per Week: {self.hours_per_week}")

# Creating objects and demonstrating the use of display_info() method




# Creating objects and demonstrating the use of display_info() method
Faizan = Person("Faizan Ahmed", 45)
Shoaib_mughal = Instructor("Shoaib Mughal", 50, "Computer Engineer", 5000)
Usama = Student("Usama AKram", 16, "Grade 10", "SIMIT12345")
uzair = TeachingAssistant("Uzair", 22, "Computer Science", 2000, "Grade 10", "SIMIT54321", 10)

Faizan.display_info()
Shoaib_mughal.display_info()
Usama.display_info()
uzair.display_info()






class BankAccount:
    def __init__(self, account_number, account_holder, balance):
        self.__account_number = account_number
        self.__account_holder = account_holder
        self.__balance = balance
    
    # Getter and setter methods for account_holder
    def get_account_holder(self):
        return self.__account_holder
    
    def set_account_holder(self, account_holder):
        self.__account_holder = account_holder
    
    # Getter and setter methods for balance with validation
    def get_balance(self):
        return self.__balance
    
    def set_balance(self, balance):
        if balance >= 0:
            self.__balance = balance
        else:
            print("Balance cannot be negative.")
    
    # Method to deposit money
    def deposit(self, amount):
        if amount > 0:
            self.__balance += amount
        else:
            print("Deposit amount must be positive.")
    
    # Method to withdraw money
    def withdraw(self, amount):
        if amount > 0 and amount <= self.__balance:
            self.__balance -= amount
        else:
            print("Insufficient funds or invalid amount.")
    
    # Method to display account details (excluding account number)
    def display_account_details(self):
        print(f"Account Holder: {self.__account_holder}")
        print(f"Balance: {self.__balance}")
        

# Derived class SavingsAccount from BankAccount
class SavingsAccount(BankAccount):
    def __init__(self, account_number, account_holder, balance, interest_rate):
        super().__init__(account_number, account_holder, balance)
        self.__interest_rate = interest_rate
    
    # Method to apply interest
    def apply_interest(self):
        interest = self.get_balance() * self.__interest_rate / 100
        self.set_balance(self.get_balance() + interest)
    
    # Override display_account_details to include interest rate
    def display_account_details(self):
        super().display_account_details()
        print(f"Interest Rate: {self.__interest_rate}%")
        




# Example scenario
Faizan_account = SavingsAccount("1234567890", "Faizan_Ahmed", 50000, 4)

# Display account details
Faizan_account.display_account_details()

# Withdraw PKR 20,000 (succeeds)
Faizan_account.withdraw(20000)
Faizan_account.display_account_details()

# Withdraw PKR 40,000 (fails)
Faizan_account.withdraw(40000)
Faizan_account.display_account_details()

# Deposit PKR 10,000
Faizan_account.deposit(10000)
Faizan_account.display_account_details()

# Apply interest
Faizan_account.apply_interest()
Faizan_account.display_account_details()






from abc import ABC, abstractmethod

# Abstract class ECommercePlatform
class ECommercePlatform(ABC):
    @abstractmethod
    def login(self):
        pass
    
    @abstractmethod
    def add_to_cart(self):
        pass
    
    @abstractmethod
    def make_payment(self):
        pass

# Concrete subclass Daraz
class Daraz(ECommercePlatform):
    def login(self):
        print("Logging in to Daraz...")
    
    def add_to_cart(self):
        print("Adding items to the Daraz shopping cart...")
    
    def make_payment(self):
        print("Making payment on Daraz via JazzCash...")

# Concrete subclass Foodpanda
class Foodpanda(ECommercePlatform):
    def login(self):
        print("Logging in to Foodpanda...")
    
    def add_to_cart(self):
        print("Adding food items to the Foodpanda cart...")
    
    def make_payment(self):
        print("Making payment on Foodpanda via EasyPaisa...")





daraz = Daraz()
foodpanda = Foodpanda()

print("Using Daraz platform:")
daraz.login()
daraz.add_to_cart()
daraz.make_payment()

print("\nUsing Foodpanda platform:")
foodpanda.login()
foodpanda.add_to_cart()
foodpanda.make_payment()
